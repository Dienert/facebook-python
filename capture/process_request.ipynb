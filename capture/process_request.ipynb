{
 "cells": [
  {
   "cell_type": "code",
   "execution_count": 1,
   "metadata": {
    "collapsed": true
   },
   "outputs": [],
   "source": [
    "my_paglet = 'https://www.facebook.com/ajax/pagelet/generic.php/AllFriendsAppCollectionPagelet?dpr=1&data=%7B%22collection_token%22%3A%221665464238%3A2356318349%3A2%22%2C%22cursor%22%3A%22MDpub3Rfc3RydWN0dXJlZDoxMDAwMDAyOTUxODkzNTk%3D%22%2C%22disablepager%22%3Afalse%2C%22overview%22%3Afalse%2C%22profile_id%22%3A%221665464238%22%2C%22pagelet_token%22%3A%22AWsG1LfMcusacqlczuKQHJs39x9tvymIj2VomDTgl7_dA8pX2LLLYgXbBzkjiyb12Fo%22%2C%22tab_key%22%3A%22friends%22%2C%22lst%22%3A%221665464238%3A1665464238%3A1506523070%22%2C%22ftid%22%3Anull%2C%22order%22%3Anull%2C%22sk%22%3A%22friends%22%2C%22importer_state%22%3Anull%7D&__user=1665464238&__a=1&__dyn=7AgNe-4amaxx2u6aZGeFxqewKKEyGgyi8zCC-C267UKezob4q2i5U4e8wo8vngy6UnGi7VXxWUaEO5pQEd8HDBxe6oGq4e9Dxm5K78O5UlwQxS58iwBx62q3O69LJ1a2m7WxWi487Cum5UepFU5yWK6ooyUK6U9GwgE-2aeyEky8nyES3m7Gy8S8Bx7G3a13xyi58&__af=h0&__req=1d&__be=1&__pc=PHASED%3ADEFAULT&__rev=3328858&__spin_r=3328858&__spin_b=trunk&__spin_t=1506523070'\n",
    "\n",
    "friend_pagelet_0 = 'https://www.facebook.com/ajax/pagelet/generic.php/FriendsAppCollectionPagelet?dpr=1&data=%7B%22collection_token%22%3A%22100001355548926%3A2356318349%3A3%22%2C%22cursor%22%3Anull%2C%22disablepager%22%3Afalse%2C%22overview%22%3Afalse%2C%22profile_id%22%3A%22100001355548926%22%2C%22pagelet_token%22%3A%22AWt94burLrJlpNPV96I7Bvk5Z4B2BhsIndR5oSqxdNAgc9ojaI4P7J38HNC6CkA3Mw0%22%2C%22tab_key%22%3A%22friends%22%2C%22lst%22%3A%221665464238%3A100001355548926%3A1506523266%22%2C%22ftid%22%3Anull%2C%22order%22%3Anull%2C%22sk%22%3A%22friends%22%2C%22importer_state%22%3Anull%7D&__user=1665464238&__a=1&__dyn=7AgNe-4amaxx2u6aZGeFxqewKKEyGyp8yeWrWo8ovyUWdwIhE98nwgUy1wxZt28dF8vDK7HwGz8uwTz9VoboGq2i2PxOcxu5o6u4E9ohwCwYxyrXgiwBx-E8U2aDBxu3Cewm9HxC68KbxK2q15zU8EWaxi8xuazodo8oydy9omwOwgUoAxi&__af=h0&__req=w&__be=1&__pc=PHASED%3ADEFAULT&__rev=3328858&__spin_r=3328858&__spin_b=trunk&__spin_t=1506523266'\n"
   ]
  },
  {
   "cell_type": "code",
   "execution_count": 2,
   "metadata": {
    "collapsed": true
   },
   "outputs": [],
   "source": [
    "from urllib.parse import parse_qs, urlparse, urlencode,urlunparse\n",
    "import json\n",
    "\n",
    "def print_url(url):\n",
    "    url = urlparse(url)\n",
    "    query = parse_qs(url.query)\n",
    "    data = json.loads(query['data'][0])\n",
    "    print(data['cursor'])\n",
    "    for key,value in data.items():\n",
    "        print(\"{}:\\n\\t{}\".format(key, value))\n",
    "    #return data['pagelet_token']\n"
   ]
  },
  {
   "cell_type": "code",
   "execution_count": 3,
   "metadata": {},
   "outputs": [
    {
     "name": "stdout",
     "output_type": "stream",
     "text": [
      "MDpub3Rfc3RydWN0dXJlZDoxMDAwMDAyOTUxODkzNTk=\n",
      "collection_token:\n",
      "\t1665464238:2356318349:2\n",
      "cursor:\n",
      "\tMDpub3Rfc3RydWN0dXJlZDoxMDAwMDAyOTUxODkzNTk=\n",
      "disablepager:\n",
      "\tFalse\n",
      "order:\n",
      "\tNone\n",
      "overview:\n",
      "\tFalse\n",
      "importer_state:\n",
      "\tNone\n",
      "ftid:\n",
      "\tNone\n",
      "tab_key:\n",
      "\tfriends\n",
      "profile_id:\n",
      "\t1665464238\n",
      "sk:\n",
      "\tfriends\n",
      "pagelet_token:\n",
      "\tAWsG1LfMcusacqlczuKQHJs39x9tvymIj2VomDTgl7_dA8pX2LLLYgXbBzkjiyb12Fo\n",
      "lst:\n",
      "\t1665464238:1665464238:1506523070\n",
      "#################\n",
      "None\n",
      "collection_token:\n",
      "\t100001355548926:2356318349:3\n",
      "cursor:\n",
      "\tNone\n",
      "disablepager:\n",
      "\tFalse\n",
      "order:\n",
      "\tNone\n",
      "overview:\n",
      "\tFalse\n",
      "importer_state:\n",
      "\tNone\n",
      "ftid:\n",
      "\tNone\n",
      "tab_key:\n",
      "\tfriends\n",
      "profile_id:\n",
      "\t100001355548926\n",
      "sk:\n",
      "\tfriends\n",
      "pagelet_token:\n",
      "\tAWt94burLrJlpNPV96I7Bvk5Z4B2BhsIndR5oSqxdNAgc9ojaI4P7J38HNC6CkA3Mw0\n",
      "lst:\n",
      "\t1665464238:100001355548926:1506523266\n"
     ]
    }
   ],
   "source": [
    "print_url(my_paglet)\n",
    "print(\"#################\")\n",
    "print_url(friend_pagelet_0)"
   ]
  }
 ],
 "metadata": {
  "kernelspec": {
   "display_name": "Python 3",
   "language": "python",
   "name": "python3"
  },
  "language_info": {
   "codemirror_mode": {
    "name": "ipython",
    "version": 3
   },
   "file_extension": ".py",
   "mimetype": "text/x-python",
   "name": "python",
   "nbconvert_exporter": "python",
   "pygments_lexer": "ipython3",
   "version": "3.5.3"
  }
 },
 "nbformat": 4,
 "nbformat_minor": 2
}
